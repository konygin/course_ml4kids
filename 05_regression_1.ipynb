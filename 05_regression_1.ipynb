{
 "cells": [
  {
   "cell_type": "markdown",
   "id": "1e2b0fd2-22ae-4637-a4b0-df11116c2a01",
   "metadata": {},
   "source": [
    "# 05. Регрессия\n",
    "\n",
    "Содержание:\n",
    "- Регрессия\n",
    "- Метрики\n",
    "- Методы регрессии\n",
    "- Ссылки"
   ]
  },
  {
   "cell_type": "code",
   "execution_count": null,
   "id": "0188ddc9-69a4-406d-a8cb-5726f1fadb9c",
   "metadata": {},
   "outputs": [],
   "source": []
  }
 ],
 "metadata": {
  "kernelspec": {
   "display_name": "Python 3 (ipykernel)",
   "language": "python",
   "name": "python3"
  },
  "language_info": {
   "codemirror_mode": {
    "name": "ipython",
    "version": 3
   },
   "file_extension": ".py",
   "mimetype": "text/x-python",
   "name": "python",
   "nbconvert_exporter": "python",
   "pygments_lexer": "ipython3",
   "version": "3.10.13"
  }
 },
 "nbformat": 4,
 "nbformat_minor": 5
}
