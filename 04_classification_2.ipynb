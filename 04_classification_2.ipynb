{
 "cells": [
  {
   "cell_type": "markdown",
   "id": "1e2b0fd2-22ae-4637-a4b0-df11116c2a01",
   "metadata": {},
   "source": [
    "# 04. Классификация\n",
    "\n",
    "Содержание:\n",
    "- Методы классификации\n",
    "    - k-means\n",
    "    - нейронные сети\n",
    "- Ссылки для дальнейшего изучения."
   ]
  }
 ],
 "metadata": {
  "kernelspec": {
   "display_name": "Python 3 (ipykernel)",
   "language": "python",
   "name": "python3"
  },
  "language_info": {
   "codemirror_mode": {
    "name": "ipython",
    "version": 3
   },
   "file_extension": ".py",
   "mimetype": "text/x-python",
   "name": "python",
   "nbconvert_exporter": "python",
   "pygments_lexer": "ipython3",
   "version": "3.10.13"
  }
 },
 "nbformat": 4,
 "nbformat_minor": 5
}
