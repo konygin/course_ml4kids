{
 "cells": [
  {
   "cell_type": "markdown",
   "id": "1e2b0fd2-22ae-4637-a4b0-df11116c2a01",
   "metadata": {},
   "source": [
    "# 02. Анализ данных\n",
    "\n",
    "Содержание:\n",
    "- Данные\n",
    "- Форматы данных\n",
    "- Визуализация\n",
    "- Пропущенные значения\n",
    "- Выбросы\n",
    "- Ссылки"
   ]
  },
  {
   "cell_type": "markdown",
   "id": "4ba55eaa-0b1f-422d-940b-f7b813e94af5",
   "metadata": {},
   "source": [
    "# 1. Данные\n",
    "\n",
    "Машинное обучение невозможно без _данных_. Данные $-$ это любая информация. \n",
    "В машинное обучении данные обычно представляются в виде таблицы:\n",
    "- строки $-$ это отдельные наблюдения (например, разные объекты, люди);\n",
    "- столбцы $-$ это признаки или характеристики этих наблюдений.\n",
    "\n",
    "#### Пример\n",
    "\n",
    "| id | Фрукт    | Цвет       | Вкус         | Размер | Сорт |\n",
    "|----|----------|------------|--------------|--------|------|\n",
    "| 0  | Яблоко   | Красный    | Сладкий      | 10     | 1    |\n",
    "| 1  | Яблоко   | Зелёный    | Кисло-сладкий| 7      | 2    |\n",
    "| 2  | Банан    | Желтый     | Сладкий      | 15     | 2    |\n",
    "| 3  | Апельсин | Оранжевый  | Кисло-сладкий| 6      | 2    |\n",
    "| 4  | Киви     | Коричневый | Кисл-сладкий | 4      | 3    |\n",
    "| 5  | Виноград | Зелёный    | Сладкий      | 1      | 1    |"
   ]
  },
  {
   "cell_type": "markdown",
   "id": "8056d280-1a53-415d-ac2f-3869b4041b54",
   "metadata": {},
   "source": [
    "## Типы данных (признаков)\n",
    "\n",
    "![](https://www.dmitrymakarov.ru/wp-content/uploads/2022/05/types-of-data-1536x726.jpg)\n",
    "\n",
    "[Источник: [Классификация данных и задачи EDA](https://www.dmitrymakarov.ru/data/data/)]\n",
    "\n",
    "#### Категориальные признаки\n",
    "\n",
    "Они представляют собой качественные характеристики, которые описывают принадлежность объекта к некоторой группе или категории. Они не являются числами в математическом смысле (над ними нельзя производить арифметические операции).\n",
    "\n",
    "> Пример. В таблице выше это признаки `id`, `Фрукт`, `Цвет`, `Вкус`, `Сорт`\n",
    "\n",
    "#### Номинальные признаки\n",
    "\n",
    "Категории не имеют никакого внутреннего порядка или ранга. Это просто \"имена\".\n",
    "\n",
    "> Пример. В таблице выше это признаки `id`, `Фрукт`, `Цвет`, `Вкус`\n",
    "\n",
    "#### Порядковые\n",
    "\n",
    "Категории имеют естественный, логический порядок, но разница между ними не измерена и не одинакова.\n",
    "\n",
    "> Пример. В таблице выше это признак `Сорт`\n",
    "\n",
    "\n",
    "#### Количественные (численные)\n",
    "\n",
    "Они представляют собой количественные характеристики, выраженные числами. Над ними можно производить математические операции.\n",
    "Могут быть _непрерывными_ (любые значения в заданном диапазоне, включая дробные) или _дискретными_  (отдельные, определенные значения, часто целые числа).\n",
    "\n",
    "> Пример. В таблице выше это признак `Размер`"
   ]
  },
  {
   "cell_type": "markdown",
   "id": "d944f9cd-8509-455e-8d9b-753069a85d7b",
   "metadata": {},
   "source": [
    "## Данные в pandas и numpy (Python)\n",
    "\n",
    "В Python для работы с данными в виде таблицы используется библиотека `pandas`.\n",
    "Её основной объект $-$ это `DataFrame`, который и представляет собой такую удобную таблицу.\n",
    "(Есть ещё  `Series` $-$ это просто один столбец из такой таблицы.)\n",
    "\n",
    "Библиотека `numpy` $-$ это основа для математических вычислений.\n",
    "Её главный объект $-$ это многомерный массив `ndarray`, который обычно содержит числа одного типа.\n",
    "В `pandas` используется `numpy` для эффективных вычислений.\n",
    "\n",
    "Вот как это выглядит на практике."
   ]
  },
  {
   "cell_type": "code",
   "execution_count": 1,
   "id": "6bdacf80-07a7-4176-aa45-3be9c3d4eac7",
   "metadata": {},
   "outputs": [
    {
     "data": {
      "text/html": [
       "<div>\n",
       "<style scoped>\n",
       "    .dataframe tbody tr th:only-of-type {\n",
       "        vertical-align: middle;\n",
       "    }\n",
       "\n",
       "    .dataframe tbody tr th {\n",
       "        vertical-align: top;\n",
       "    }\n",
       "\n",
       "    .dataframe thead th {\n",
       "        text-align: right;\n",
       "    }\n",
       "</style>\n",
       "<table border=\"1\" class=\"dataframe\">\n",
       "  <thead>\n",
       "    <tr style=\"text-align: right;\">\n",
       "      <th></th>\n",
       "      <th>Фрукт</th>\n",
       "      <th>Цвет</th>\n",
       "      <th>Вкус</th>\n",
       "      <th>Размер</th>\n",
       "      <th>Сорт</th>\n",
       "    </tr>\n",
       "    <tr>\n",
       "      <th>id</th>\n",
       "      <th></th>\n",
       "      <th></th>\n",
       "      <th></th>\n",
       "      <th></th>\n",
       "      <th></th>\n",
       "    </tr>\n",
       "  </thead>\n",
       "  <tbody>\n",
       "    <tr>\n",
       "      <th>0</th>\n",
       "      <td>Яблоко</td>\n",
       "      <td>Красный</td>\n",
       "      <td>Сладкий</td>\n",
       "      <td>10</td>\n",
       "      <td>1</td>\n",
       "    </tr>\n",
       "    <tr>\n",
       "      <th>1</th>\n",
       "      <td>Яблоко</td>\n",
       "      <td>Зелёный</td>\n",
       "      <td>Кисло-сладкий</td>\n",
       "      <td>7</td>\n",
       "      <td>2</td>\n",
       "    </tr>\n",
       "    <tr>\n",
       "      <th>2</th>\n",
       "      <td>Банан</td>\n",
       "      <td>Желтый</td>\n",
       "      <td>Сладкий</td>\n",
       "      <td>15</td>\n",
       "      <td>2</td>\n",
       "    </tr>\n",
       "    <tr>\n",
       "      <th>3</th>\n",
       "      <td>Апельсин</td>\n",
       "      <td>Оранжевый</td>\n",
       "      <td>Кисло-сладкий</td>\n",
       "      <td>6</td>\n",
       "      <td>2</td>\n",
       "    </tr>\n",
       "    <tr>\n",
       "      <th>4</th>\n",
       "      <td>Киви</td>\n",
       "      <td>Коричневый</td>\n",
       "      <td>Кисло-сладкий</td>\n",
       "      <td>4</td>\n",
       "      <td>3</td>\n",
       "    </tr>\n",
       "    <tr>\n",
       "      <th>5</th>\n",
       "      <td>Виноград</td>\n",
       "      <td>Зелёный</td>\n",
       "      <td>Сладкий</td>\n",
       "      <td>1</td>\n",
       "      <td>1</td>\n",
       "    </tr>\n",
       "  </tbody>\n",
       "</table>\n",
       "</div>"
      ],
      "text/plain": [
       "       Фрукт        Цвет           Вкус  Размер  Сорт\n",
       "id                                                   \n",
       "0     Яблоко     Красный        Сладкий      10     1\n",
       "1     Яблоко     Зелёный  Кисло-сладкий       7     2\n",
       "2      Банан      Желтый        Сладкий      15     2\n",
       "3   Апельсин   Оранжевый  Кисло-сладкий       6     2\n",
       "4       Киви  Коричневый  Кисло-сладкий       4     3\n",
       "5   Виноград     Зелёный        Сладкий       1     1"
      ]
     },
     "execution_count": 1,
     "metadata": {},
     "output_type": "execute_result"
    }
   ],
   "source": [
    "import pandas as pd\n",
    "\n",
    "data = {\n",
    "    'id': [0, 1, 2, 3, 4, 5],\n",
    "    'Фрукт': ['Яблоко', 'Яблоко', 'Банан', 'Апельсин', 'Киви', 'Виноград'],\n",
    "    'Цвет': ['Красный', 'Зелёный', 'Желтый', 'Оранжевый', 'Коричневый', 'Зелёный'],\n",
    "    'Вкус': ['Сладкий', 'Кисло-сладкий', 'Сладкий', 'Кисло-сладкий', 'Кисло-сладкий', 'Сладкий'],\n",
    "    'Размер': [10, 7, 15, 6, 4, 1],\n",
    "    'Сорт': [1, 2, 2, 2, 3, 1]\n",
    "}\n",
    "\n",
    "df = pd.DataFrame(data).set_index('id')\n",
    "df"
   ]
  },
  {
   "cell_type": "markdown",
   "id": "6b35d11b-4465-4d27-bb60-273011eb3ed6",
   "metadata": {},
   "source": [
    "## Что можно делать с данными?"
   ]
  },
  {
   "cell_type": "code",
   "execution_count": 2,
   "id": "a67140b5-262e-4408-afe4-9d19b7f8fada",
   "metadata": {},
   "outputs": [
    {
     "name": "stdout",
     "output_type": "stream",
     "text": [
      "     Фрукт     Цвет           Вкус  Размер  Сорт\n",
      "id                                              \n",
      "0   Яблоко  Красный        Сладкий      10     1\n",
      "1   Яблоко  Зелёный  Кисло-сладкий       7     2\n",
      "2    Банан   Желтый        Сладкий      15     2\n",
      "          Размер      Сорт\n",
      "count   6.000000  6.000000\n",
      "mean    7.166667  1.833333\n",
      "std     4.875107  0.752773\n",
      "min     1.000000  1.000000\n",
      "25%     4.500000  1.250000\n",
      "50%     6.500000  2.000000\n",
      "75%     9.250000  2.000000\n",
      "max    15.000000  3.000000\n"
     ]
    }
   ],
   "source": [
    "### Взглянуть на данные\n",
    "\n",
    "# Показать первые 3 строки таблицы\n",
    "print(df.head(3))\n",
    "\n",
    "# Показать основные статистики по числовым столбцам (среднее, минимум, максимум и т.д.)\n",
    "print(df.describe())"
   ]
  },
  {
   "cell_type": "code",
   "execution_count": 3,
   "id": "fdb9cdb4-8974-4d83-bf43-c0948fe5941b",
   "metadata": {},
   "outputs": [
    {
     "name": "stdout",
     "output_type": "stream",
     "text": [
      "Столбец 'Фрукт':\n",
      "id\n",
      "0      Яблоко\n",
      "1      Яблоко\n",
      "2       Банан\n",
      "3    Апельсин\n",
      "4        Киви\n",
      "5    Виноград\n",
      "Name: Фрукт, dtype: object\n"
     ]
    }
   ],
   "source": [
    "### Выбрать нужный столбец**\n",
    "\n",
    "# Выбрать столбец \"Фрукт\" (вернётся объект Series)\n",
    "names = df['Фрукт']\n",
    "print(\"Столбец 'Фрукт':\")\n",
    "print(names)"
   ]
  },
  {
   "cell_type": "code",
   "execution_count": 4,
   "id": "c58f831e-cfd6-4fba-8a10-5e4b0134c290",
   "metadata": {},
   "outputs": [
    {
     "name": "stdout",
     "output_type": "stream",
     "text": [
      "int64\n",
      "float64\n"
     ]
    }
   ],
   "source": [
    "### Изменить тип данных у столбца\n",
    "\n",
    "# Текущий тип данных в столбце\n",
    "print(df['Размер'].dtype)\n",
    "# Приведение к новому типу\n",
    "df['Размер'] = df['Размер'].astype(float)\n",
    "# Новый тип данных в столбце\n",
    "print(df['Размер'].dtype)"
   ]
  },
  {
   "cell_type": "code",
   "execution_count": 5,
   "id": "ac6bf65f-199f-4cc8-9050-b6683b6d6fc8",
   "metadata": {},
   "outputs": [
    {
     "data": {
      "text/html": [
       "<div>\n",
       "<style scoped>\n",
       "    .dataframe tbody tr th:only-of-type {\n",
       "        vertical-align: middle;\n",
       "    }\n",
       "\n",
       "    .dataframe tbody tr th {\n",
       "        vertical-align: top;\n",
       "    }\n",
       "\n",
       "    .dataframe thead th {\n",
       "        text-align: right;\n",
       "    }\n",
       "</style>\n",
       "<table border=\"1\" class=\"dataframe\">\n",
       "  <thead>\n",
       "    <tr style=\"text-align: right;\">\n",
       "      <th></th>\n",
       "      <th>Фрукт</th>\n",
       "      <th>Цвет</th>\n",
       "      <th>Вкус</th>\n",
       "      <th>Размер</th>\n",
       "      <th>Сорт</th>\n",
       "      <th>Крупный фрукт</th>\n",
       "    </tr>\n",
       "    <tr>\n",
       "      <th>id</th>\n",
       "      <th></th>\n",
       "      <th></th>\n",
       "      <th></th>\n",
       "      <th></th>\n",
       "      <th></th>\n",
       "      <th></th>\n",
       "    </tr>\n",
       "  </thead>\n",
       "  <tbody>\n",
       "    <tr>\n",
       "      <th>0</th>\n",
       "      <td>Яблоко</td>\n",
       "      <td>Красный</td>\n",
       "      <td>Сладкий</td>\n",
       "      <td>10.0</td>\n",
       "      <td>1</td>\n",
       "      <td>True</td>\n",
       "    </tr>\n",
       "    <tr>\n",
       "      <th>1</th>\n",
       "      <td>Яблоко</td>\n",
       "      <td>Зелёный</td>\n",
       "      <td>Кисло-сладкий</td>\n",
       "      <td>7.0</td>\n",
       "      <td>2</td>\n",
       "      <td>False</td>\n",
       "    </tr>\n",
       "    <tr>\n",
       "      <th>2</th>\n",
       "      <td>Банан</td>\n",
       "      <td>Желтый</td>\n",
       "      <td>Сладкий</td>\n",
       "      <td>15.0</td>\n",
       "      <td>2</td>\n",
       "      <td>True</td>\n",
       "    </tr>\n",
       "    <tr>\n",
       "      <th>3</th>\n",
       "      <td>Апельсин</td>\n",
       "      <td>Оранжевый</td>\n",
       "      <td>Кисло-сладкий</td>\n",
       "      <td>6.0</td>\n",
       "      <td>2</td>\n",
       "      <td>False</td>\n",
       "    </tr>\n",
       "    <tr>\n",
       "      <th>4</th>\n",
       "      <td>Киви</td>\n",
       "      <td>Коричневый</td>\n",
       "      <td>Кисло-сладкий</td>\n",
       "      <td>4.0</td>\n",
       "      <td>3</td>\n",
       "      <td>False</td>\n",
       "    </tr>\n",
       "    <tr>\n",
       "      <th>5</th>\n",
       "      <td>Виноград</td>\n",
       "      <td>Зелёный</td>\n",
       "      <td>Сладкий</td>\n",
       "      <td>1.0</td>\n",
       "      <td>1</td>\n",
       "      <td>False</td>\n",
       "    </tr>\n",
       "  </tbody>\n",
       "</table>\n",
       "</div>"
      ],
      "text/plain": [
       "       Фрукт        Цвет           Вкус  Размер  Сорт  Крупный фрукт\n",
       "id                                                                  \n",
       "0     Яблоко     Красный        Сладкий    10.0     1           True\n",
       "1     Яблоко     Зелёный  Кисло-сладкий     7.0     2          False\n",
       "2      Банан      Желтый        Сладкий    15.0     2           True\n",
       "3   Апельсин   Оранжевый  Кисло-сладкий     6.0     2          False\n",
       "4       Киви  Коричневый  Кисло-сладкий     4.0     3          False\n",
       "5   Виноград     Зелёный        Сладкий     1.0     1          False"
      ]
     },
     "execution_count": 5,
     "metadata": {},
     "output_type": "execute_result"
    }
   ],
   "source": [
    "### Добавить новый столбец\n",
    "\n",
    "# Создадим новый столбец \"Крупный фрукт\", который будет True, если размер фрукта более 8 см\n",
    "df['Крупный фрукт'] = df['Размер'] > 8.0\n",
    "df"
   ]
  },
  {
   "cell_type": "code",
   "execution_count": 6,
   "id": "25ed23c2-fbfe-4707-bdd2-82c7f30a37b8",
   "metadata": {},
   "outputs": [
    {
     "data": {
      "text/html": [
       "<div>\n",
       "<style scoped>\n",
       "    .dataframe tbody tr th:only-of-type {\n",
       "        vertical-align: middle;\n",
       "    }\n",
       "\n",
       "    .dataframe tbody tr th {\n",
       "        vertical-align: top;\n",
       "    }\n",
       "\n",
       "    .dataframe thead th {\n",
       "        text-align: right;\n",
       "    }\n",
       "</style>\n",
       "<table border=\"1\" class=\"dataframe\">\n",
       "  <thead>\n",
       "    <tr style=\"text-align: right;\">\n",
       "      <th></th>\n",
       "      <th>Фрукт</th>\n",
       "      <th>Цвет</th>\n",
       "      <th>Вкус</th>\n",
       "      <th>Размер</th>\n",
       "      <th>Сорт</th>\n",
       "      <th>Крупный фрукт</th>\n",
       "      <th>Цена</th>\n",
       "    </tr>\n",
       "    <tr>\n",
       "      <th>id</th>\n",
       "      <th></th>\n",
       "      <th></th>\n",
       "      <th></th>\n",
       "      <th></th>\n",
       "      <th></th>\n",
       "      <th></th>\n",
       "      <th></th>\n",
       "    </tr>\n",
       "  </thead>\n",
       "  <tbody>\n",
       "    <tr>\n",
       "      <th>0</th>\n",
       "      <td>Яблоко</td>\n",
       "      <td>Красный</td>\n",
       "      <td>Сладкий</td>\n",
       "      <td>10.0</td>\n",
       "      <td>1</td>\n",
       "      <td>True</td>\n",
       "      <td>2.25</td>\n",
       "    </tr>\n",
       "    <tr>\n",
       "      <th>1</th>\n",
       "      <td>Яблоко</td>\n",
       "      <td>Зелёный</td>\n",
       "      <td>Кисло-сладкий</td>\n",
       "      <td>7.0</td>\n",
       "      <td>2</td>\n",
       "      <td>False</td>\n",
       "      <td>0.90</td>\n",
       "    </tr>\n",
       "    <tr>\n",
       "      <th>2</th>\n",
       "      <td>Банан</td>\n",
       "      <td>Желтый</td>\n",
       "      <td>Сладкий</td>\n",
       "      <td>15.0</td>\n",
       "      <td>2</td>\n",
       "      <td>True</td>\n",
       "      <td>1.20</td>\n",
       "    </tr>\n",
       "    <tr>\n",
       "      <th>3</th>\n",
       "      <td>Апельсин</td>\n",
       "      <td>Оранжевый</td>\n",
       "      <td>Кисло-сладкий</td>\n",
       "      <td>6.0</td>\n",
       "      <td>2</td>\n",
       "      <td>False</td>\n",
       "      <td>2.25</td>\n",
       "    </tr>\n",
       "    <tr>\n",
       "      <th>4</th>\n",
       "      <td>Киви</td>\n",
       "      <td>Коричневый</td>\n",
       "      <td>Кисло-сладкий</td>\n",
       "      <td>4.0</td>\n",
       "      <td>3</td>\n",
       "      <td>False</td>\n",
       "      <td>3.20</td>\n",
       "    </tr>\n",
       "    <tr>\n",
       "      <th>5</th>\n",
       "      <td>Виноград</td>\n",
       "      <td>Зелёный</td>\n",
       "      <td>Сладкий</td>\n",
       "      <td>1.0</td>\n",
       "      <td>1</td>\n",
       "      <td>False</td>\n",
       "      <td>3.50</td>\n",
       "    </tr>\n",
       "  </tbody>\n",
       "</table>\n",
       "</div>"
      ],
      "text/plain": [
       "       Фрукт        Цвет           Вкус  Размер  Сорт  Крупный фрукт  Цена\n",
       "id                                                                        \n",
       "0     Яблоко     Красный        Сладкий    10.0     1           True  2.25\n",
       "1     Яблоко     Зелёный  Кисло-сладкий     7.0     2          False  0.90\n",
       "2      Банан      Желтый        Сладкий    15.0     2           True  1.20\n",
       "3   Апельсин   Оранжевый  Кисло-сладкий     6.0     2          False  2.25\n",
       "4       Киви  Коричневый  Кисло-сладкий     4.0     3          False  3.20\n",
       "5   Виноград     Зелёный        Сладкий     1.0     1          False  3.50"
      ]
     },
     "execution_count": 6,
     "metadata": {},
     "output_type": "execute_result"
    }
   ],
   "source": [
    "### Выполнить простое вычисление с помощью numpy\n",
    "\n",
    "import numpy as np\n",
    "\n",
    "# Предположим, у нас есть массив numpy c ценами\n",
    "prices = np.array([2.5, 1.0, 1.5, 3.0, 4.0, 3.5])\n",
    "# Добавим новый столбец\n",
    "df['Цена'] = prices\n",
    "# Скидки на фрукты\n",
    "discounts = np.array([0.9, 0.9, 0.8, 0.75, 0.8, 1.0])\n",
    "# Применим скидки\n",
    "df['Цена'] *= discounts\n",
    "df"
   ]
  },
  {
   "cell_type": "markdown",
   "id": "38e3d398-063d-4dbc-861b-b397aeb66dfd",
   "metadata": {},
   "source": [
    "> Домашняя работа. Попробуй создать свои собственные данные для анализа. Вот несколько идей:\n",
    "> 1. Одноклассники: создай таблицу с именами друзей, их возрастом, любимым предметом и средним баллом.\n",
    "> 2. Погода: зафиксируй данные о температуре, облачности и осадках за неделю.\n",
    "> 3. Карманные деньги: запиши, сколько денег ты тратишь в неделю на разные категории (еда, развлечения, транспорт)."
   ]
  },
  {
   "cell_type": "markdown",
   "id": "bee4c636-400b-4d18-b50d-5464dda16be7",
   "metadata": {},
   "source": [
    "# 2. Форматы данных\n",
    "\n",
    "Популярные используемые форматы данных в машинное обучение: `csv`, `tsv`, `json`, `jsonl`, `yaml`, `pickle`.\n",
    "За исключением `pickle` остальные форматы человекочитаемые.\n",
    "\n",
    "- [csv](https://ru.wikipedia.org/wiki/CSV) (Comma-Separated Values): текстовый формат, предназначенный для представления табличных данных. Строка таблицы соответствует строке текста, которая содержит одно или несколько полей, разделенных запятыми\n",
    "- [tsv](https://ru.wikipedia.org/wiki/TSV) (Tab-Separated Values):  текстовый формат, предназначенный для представления табличных данных. Строка таблицы соответствует строке текста, которая содержит одно или несколько полей, разделенных символами табуляции (`\\t`)\n",
    "- [json](https://ru.wikipedia.org/wiki/JSON) (JavaScript Object Notation): текстовый формат обмена данными, основанный на JavaScript. Несмотря на происхождение от JavaScript, формат считается независимым от языка и может использоваться практически с любым языком программирования\n",
    "- [jsonl](https://jsonlines.org/) (JSON Lines): текстовые формат, в котором каждая строка является самостоятельным json-объектом\n",
    "- [yaml](https://ru.wikipedia.org/wiki/YAML) (YAML Ain't Markup Language): текстовые формат обмена данными, ориентированный на удобство ввода-вывода типичных структур данных многих языков программирования\n",
    "- [pickle](https://docs.python.org/3/library/pickle.html): формат и python-пакет для сериализации объектов языка python\n",
    "\n",
    "> Сейчас формат `csv` понимается более широко, чем изначально, и допускаются различные разделители, в частности `\\t`. В частности, формат `tsv` становится частным случаем формата `csv`.\n",
    "\n",
    "Далее более подробно поговорим о формате `csv`."
   ]
  },
  {
   "cell_type": "markdown",
   "id": "dc2c56df-5174-48eb-bd61-2b6d0a8a2602",
   "metadata": {},
   "source": [
    "## Формат `csv`\n",
    "\n",
    "- Текстовый файл\n",
    "- Каждая строка = запись\n",
    "- Столбцы разделены _разделителем_\n",
    "- Первая строка часто (но необязательно) = заголовки\n",
    "\n",
    "Разделители:\n",
    "- `,` - запятая (стандарт)\n",
    "- `;` - точка с запятой  \n",
    "- `\\t` - табуляция (TSV)\n",
    "- `|` - вертикальная черта\n",
    "- пробел\n",
    "\n",
    "Пример:\n",
    "\n",
    "```\n",
    "Фрукт,Цвет,Вкус,Размер,Сорт,Крупный фрукт,Цена\n",
    "Яблоко,Красный,Сладкий,10.0,1,True,2.25\n",
    "Яблоко,Зелёный,Кисло-сладкий,7.0,2,False,0.9\n",
    "Банан,Желтый,Сладкий,15.0,2,True,1.2000000000000002\n",
    "Апельсин,Оранжевый,Кисло-сладкий,6.0,2,False,2.25\n",
    "Киви,Коричневый,Кисл-сладкий,4.0,3,False,3.2\n",
    "Виноград,Зелёный,Сладкий,1.0,1,False,3.5\n",
    "```\n",
    "\n",
    "Особенности:\n",
    "- Кавычки для данных с разделителем: `\"Иванов, Иван\"`\n",
    "- Кодировка (`UTF-8`, `Windows-1251`)\n",
    "- Перенос строки = новая запись"
   ]
  },
  {
   "cell_type": "markdown",
   "id": "52480c1b-51a3-4768-9537-72f0fd4b023c",
   "metadata": {},
   "source": [
    "## Сохрание в формат `csv`\n",
    "\n",
    "Самое простое и быстрое $-$ использовать метод `to_csv` из `pandas`:"
   ]
  },
  {
   "cell_type": "code",
   "execution_count": 7,
   "id": "993d1e7d-93ac-4c6b-9802-b4e863857e2b",
   "metadata": {},
   "outputs": [],
   "source": [
    "df.to_csv('fruits.csv')"
   ]
  },
  {
   "cell_type": "markdown",
   "id": "900566f3-02a8-4ea5-b7ec-d00c3e8ccd33",
   "metadata": {},
   "source": [
    "Много настроек\n",
    "\n",
    "```python\n",
    "DataFrame.to_csv(path_or_buf=None, *, sep=',', na_rep='', float_format=None, columns=None, header=True, index=True, index_label=None, mode='w', encoding=None, compression='infer', quoting=None, quotechar='\"', lineterminator=None, chunksize=None, date_format=None, doublequote=True, escapechar=None, decimal='.', errors='strict', storage_options=None)\n",
    "```\n",
    "\n",
    "Подробное описание полей: [pandas.DataFrame.to_csv](https://pandas.pydata.org/docs/reference/api/pandas.DataFrame.to_csv.html)"
   ]
  },
  {
   "cell_type": "markdown",
   "id": "31a27c22-7cdb-454b-9c90-4c6217b84869",
   "metadata": {},
   "source": [
    "## Чтение из формата `csv`\n",
    "\n",
    "Самое простое и быстрое $-$ использовать метод `read_csv` из `pandas`:"
   ]
  },
  {
   "cell_type": "code",
   "execution_count": 8,
   "id": "e58dc455-10d2-47c1-be7f-e47e40f49b02",
   "metadata": {},
   "outputs": [
    {
     "data": {
      "text/html": [
       "<div>\n",
       "<style scoped>\n",
       "    .dataframe tbody tr th:only-of-type {\n",
       "        vertical-align: middle;\n",
       "    }\n",
       "\n",
       "    .dataframe tbody tr th {\n",
       "        vertical-align: top;\n",
       "    }\n",
       "\n",
       "    .dataframe thead th {\n",
       "        text-align: right;\n",
       "    }\n",
       "</style>\n",
       "<table border=\"1\" class=\"dataframe\">\n",
       "  <thead>\n",
       "    <tr style=\"text-align: right;\">\n",
       "      <th></th>\n",
       "      <th>id</th>\n",
       "      <th>Фрукт</th>\n",
       "      <th>Цвет</th>\n",
       "      <th>Вкус</th>\n",
       "      <th>Размер</th>\n",
       "      <th>Сорт</th>\n",
       "      <th>Крупный фрукт</th>\n",
       "      <th>Цена</th>\n",
       "    </tr>\n",
       "  </thead>\n",
       "  <tbody>\n",
       "    <tr>\n",
       "      <th>0</th>\n",
       "      <td>0</td>\n",
       "      <td>Яблоко</td>\n",
       "      <td>Красный</td>\n",
       "      <td>Сладкий</td>\n",
       "      <td>10.0</td>\n",
       "      <td>1</td>\n",
       "      <td>True</td>\n",
       "      <td>2.25</td>\n",
       "    </tr>\n",
       "    <tr>\n",
       "      <th>1</th>\n",
       "      <td>1</td>\n",
       "      <td>Яблоко</td>\n",
       "      <td>Зелёный</td>\n",
       "      <td>Кисло-сладкий</td>\n",
       "      <td>7.0</td>\n",
       "      <td>2</td>\n",
       "      <td>False</td>\n",
       "      <td>0.90</td>\n",
       "    </tr>\n",
       "    <tr>\n",
       "      <th>2</th>\n",
       "      <td>2</td>\n",
       "      <td>Банан</td>\n",
       "      <td>Желтый</td>\n",
       "      <td>Сладкий</td>\n",
       "      <td>15.0</td>\n",
       "      <td>2</td>\n",
       "      <td>True</td>\n",
       "      <td>1.20</td>\n",
       "    </tr>\n",
       "    <tr>\n",
       "      <th>3</th>\n",
       "      <td>3</td>\n",
       "      <td>Апельсин</td>\n",
       "      <td>Оранжевый</td>\n",
       "      <td>Кисло-сладкий</td>\n",
       "      <td>6.0</td>\n",
       "      <td>2</td>\n",
       "      <td>False</td>\n",
       "      <td>2.25</td>\n",
       "    </tr>\n",
       "    <tr>\n",
       "      <th>4</th>\n",
       "      <td>4</td>\n",
       "      <td>Киви</td>\n",
       "      <td>Коричневый</td>\n",
       "      <td>Кисло-сладкий</td>\n",
       "      <td>4.0</td>\n",
       "      <td>3</td>\n",
       "      <td>False</td>\n",
       "      <td>3.20</td>\n",
       "    </tr>\n",
       "    <tr>\n",
       "      <th>5</th>\n",
       "      <td>5</td>\n",
       "      <td>Виноград</td>\n",
       "      <td>Зелёный</td>\n",
       "      <td>Сладкий</td>\n",
       "      <td>1.0</td>\n",
       "      <td>1</td>\n",
       "      <td>False</td>\n",
       "      <td>3.50</td>\n",
       "    </tr>\n",
       "  </tbody>\n",
       "</table>\n",
       "</div>"
      ],
      "text/plain": [
       "   id     Фрукт        Цвет           Вкус  Размер  Сорт  Крупный фрукт  Цена\n",
       "0   0    Яблоко     Красный        Сладкий    10.0     1           True  2.25\n",
       "1   1    Яблоко     Зелёный  Кисло-сладкий     7.0     2          False  0.90\n",
       "2   2     Банан      Желтый        Сладкий    15.0     2           True  1.20\n",
       "3   3  Апельсин   Оранжевый  Кисло-сладкий     6.0     2          False  2.25\n",
       "4   4      Киви  Коричневый  Кисло-сладкий     4.0     3          False  3.20\n",
       "5   5  Виноград     Зелёный        Сладкий     1.0     1          False  3.50"
      ]
     },
     "execution_count": 8,
     "metadata": {},
     "output_type": "execute_result"
    }
   ],
   "source": [
    "df_read = pd.read_csv('fruits.csv')\n",
    "df_read"
   ]
  },
  {
   "cell_type": "markdown",
   "id": "26dfe9e9-fbe8-4e04-82e9-ee143d96c4d4",
   "metadata": {},
   "source": [
    "Много настроек\n",
    "\n",
    "```python\n",
    "pandas.read_csv(filepath_or_buffer, *, sep=<no_default>, delimiter=None, header='infer', names=<no_default>, index_col=None, usecols=None, dtype=None, engine=None, converters=None, true_values=None, false_values=None, skipinitialspace=False, skiprows=None, skipfooter=0, nrows=None, na_values=None, keep_default_na=True, na_filter=True, verbose=<no_default>, skip_blank_lines=True, parse_dates=None, infer_datetime_format=<no_default>, keep_date_col=<no_default>, date_parser=<no_default>, date_format=None, dayfirst=False, cache_dates=True, iterator=False, chunksize=None, compression='infer', thousands=None, decimal='.', lineterminator=None, quotechar='\"', quoting=0, doublequote=True, escapechar=None, comment=None, encoding=None, encoding_errors='strict', dialect=None, on_bad_lines='error', delim_whitespace=<no_default>, low_memory=True, memory_map=False, float_precision=None, storage_options=None, dtype_backend=<no_default>)\n",
    "```\n",
    "\n",
    "Подробное описание полей: [pandas.DataFrame.read_csv](https://pandas.pydata.org/docs/reference/api/pandas.read_csv.html)"
   ]
  },
  {
   "cell_type": "markdown",
   "id": "ec257826-3ea0-459a-b43a-22b4e9aaf82a",
   "metadata": {},
   "source": [
    "# 3. Визуализация\n",
    "\n",
    "Если задача машинного обучения рутинная, то решение идёт по известному алгоритму.\n",
    "Если задача является новой и требуется сначала сформулировать гипотезу, то часто для этого помогает визуализация.\n",
    "\n",
    "Визуализация данных — это представление информации графическом виде, чтобы было проще увидеть закономерности, тренды и выбросы в данных.\n",
    "\n",
    "Например, по таблице с цислами сложно сразу понять, как эти числа меняются, какие есть закономерности, сложные они или простые. Но если построить график, картина становится яснее. Визуализация помогает:\n",
    "- увидеть тенденции: например, как растём успеваемость по математике в течение года;\n",
    "- сравнить значения: например, какое мороженое в классе любят больше — шоколадное или ванильное;\n",
    "- сделать открытия: на графике можно заметить что-то неочевидное в данных, что не бросается в глаза в таблице."
   ]
  },
  {
   "cell_type": "markdown",
   "id": "3a876b55-b724-4e12-a560-b0b6a2edf9ef",
   "metadata": {},
   "source": [
    "Основной инструмент — библиотека `matplotlib`.\n",
    "\n",
    "`matplotlib` умеет строить множество типов графиков. Вот самые полезные для начала:\n",
    "- Линейный график (`plot`): показывает, как данные меняются во времени или в зависимости от другого параметра.\n",
    "- Круговая диаграмма (`pie`): показывает доли целого (например, проценты).\n",
    "- Столбчатая диаграмма (`bar`): сравнения разных категорий.\n",
    "- Точечная диаграмма (`scatter`): показывает взаимосвязь между двумя переменными.\n",
    "\n",
    "Подробнее: [matplotlib.org](https://matplotlib.org/)"
   ]
  },
  {
   "cell_type": "markdown",
   "id": "c57c3750-b3e0-45d2-87f4-5e04eb5e2186",
   "metadata": {},
   "source": [
    "## Пример линейного графика"
   ]
  },
  {
   "cell_type": "code",
   "execution_count": 9,
   "id": "94c890c0-929f-40e7-b605-6dca3513d56b",
   "metadata": {},
   "outputs": [
    {
     "data": {
      "image/png": "[encoded data removed]",
      "text/plain": [
       "<Figure size 640x480 with 1 Axes>"
      ]
     },
     "metadata": {},
     "output_type": "display_data"
    }
   ],
   "source": [
    "# Импортируем необходимые библиотеки\n",
    "import matplotlib.pyplot as plt\n",
    "import numpy as np\n",
    "\n",
    "# Создадим данные с помощью NumPy\n",
    "# t - это массив из 200 точек от 0 до 2\n",
    "t = np.arange(0.0, 2.0, 0.01)\n",
    "# s - значения синуса для каждой точки t\n",
    "s = 1 + np.sin(2 * np.pi * t)\n",
    "\n",
    "# Создаём линейный график\n",
    "plt.plot(t, s)\n",
    "\n",
    "# Добавляем подписи осей и заголовок\n",
    "plt.xlabel('Время (с)')\n",
    "plt.ylabel('Напряжение (мВ)')\n",
    "plt.title('Простой пример линейного графика')\n",
    "plt.grid(True) # Включаем сетку для удобства\n",
    "\n",
    "# Показываем график\n",
    "plt.show()"
   ]
  },
  {
   "cell_type": "markdown",
   "id": "1ef73a0f-7ed8-4319-a218-955a66fe0cb3",
   "metadata": {},
   "source": [
    "# Несколько графиков одновременно"
   ]
  },
  {
   "cell_type": "code",
   "execution_count": 10,
   "id": "7060d8d5-0504-4311-be24-decf978fdf7f",
   "metadata": {},
   "outputs": [
    {
     "data": {
      "image/png": "[encoded data removed]",
      "text/plain": [
       "<Figure size 640x480 with 1 Axes>"
      ]
     },
     "metadata": {},
     "output_type": "display_data"
    }
   ],
   "source": [
    "# Генерируем данные\n",
    "x = np.linspace(0, 2 * np.pi, 100)\n",
    "y1 = np.cos(x)\n",
    "y2 = np.sin(x)\n",
    "\n",
    "# Строим два графика на одном полотне\n",
    "plt.plot(x, y1, label='cos(x)', linestyle='-', linewidth=2)\n",
    "plt.plot(x, y2, label='sin(x)', linestyle='--', linewidth=3)\n",
    "\n",
    "plt.legend() # Добавляем легенду, чтобы было понятно, какая линия что означает\n",
    "plt.title('Функции sin и cos')\n",
    "plt.xlabel('x')\n",
    "plt.ylabel('y')\n",
    "plt.grid(True)\n",
    "plt.show()"
   ]
  },
  {
   "cell_type": "markdown",
   "id": "90570ca3-a9e0-4d93-967c-c6a8db4255e1",
   "metadata": {},
   "source": [
    "## Пример столбчатой диаграммы"
   ]
  },
  {
   "cell_type": "code",
   "execution_count": 11,
   "id": "34b41343-5d1f-4607-b892-3e33b0a0bedb",
   "metadata": {},
   "outputs": [
    {
     "data": {
      "image/png": "[encoded data removed]",
      "text/plain": [
       "<Figure size 640x480 with 1 Axes>"
      ]
     },
     "metadata": {},
     "output_type": "display_data"
    }
   ],
   "source": [
    "# Данные: названия предметов и средний балл\n",
    "subjects = ['Математика', 'Физика', 'История', 'Литература']\n",
    "grades = [5, 3, 4, 5]\n",
    "\n",
    "plt.bar(subjects, grades, color=['blue', 'green', 'red', 'purple'])\n",
    "plt.title('Средний балл по предметам')\n",
    "plt.ylabel('Баллы')\n",
    "plt.grid(True, axis='y') # Сетка только по вертикали\n",
    "plt.show()"
   ]
  },
  {
   "cell_type": "markdown",
   "id": "0d2d91a1-b56a-4b5d-ba5d-3f515c645efe",
   "metadata": {},
   "source": [
    "## Пример круговой диаграммы"
   ]
  },
  {
   "cell_type": "code",
   "execution_count": 12,
   "id": "65d6c108-ea09-4f0a-a41f-3f0900c2aa9f",
   "metadata": {},
   "outputs": [
    {
     "data": {
      "image/png": "[encoded data removed]",
      "text/plain": [
       "<Figure size 640x480 with 1 Axes>"
      ]
     },
     "metadata": {},
     "output_type": "display_data"
    }
   ],
   "source": [
    "# Данные о распределении времени в сутках\n",
    "activities = ['Сон', 'Учёба', 'Отдых', 'Спорт']\n",
    "spent_time = [8, 6, 8, 2]\n",
    "colors = ['#ff9999', '#66b3ff', '#99ff99', '#ffcc99']\n",
    "\n",
    "plt.pie(spent_time, labels=activities, autopct='%1.1f%%', colors=colors)\n",
    "plt.title('Мой день')\n",
    "plt.show()"
   ]
  },
  {
   "cell_type": "markdown",
   "id": "34299d4b-eac3-4c65-b4e7-3cfb4dccbe61",
   "metadata": {},
   "source": [
    "## Пример точечной диаграммы"
   ]
  },
  {
   "cell_type": "code",
   "execution_count": 13,
   "id": "61c65a28-aa15-44d3-b4d3-9a8f229be26d",
   "metadata": {},
   "outputs": [
    {
     "data": {
      "image/png": "[encoded data removed]",
      "text/plain": [
       "<Figure size 800x600 with 1 Axes>"
      ]
     },
     "metadata": {},
     "output_type": "display_data"
    }
   ],
   "source": [
    "# Данные\n",
    "hours = [1, 2, 3, 4, 5]\n",
    "grades = [2, 4, 5, 4, 5]\n",
    "students = ['Саша', 'Петя', 'Дима', 'Вася', 'Рита']\n",
    "\n",
    "# Построение графика\n",
    "plt.figure(figsize=(8, 6))\n",
    "plt.plot(hours, grades, 'bo', markersize=8)\n",
    "\n",
    "# Подписи осей и заголовок\n",
    "plt.xlabel('Часы подготовки')\n",
    "plt.ylabel('Оценка за контрольную')\n",
    "plt.title('Результаты')\n",
    "\n",
    "# Добавление имен рядом с точками\n",
    "for i, student in enumerate(students):\n",
    "    plt.text(hours[i] + 0.1, grades[i] + 0.1, student)\n",
    "\n",
    "# Сетка и ограничения осей\n",
    "plt.grid(True, linestyle='--', alpha=0.7)\n",
    "plt.xlim(0, 6)\n",
    "plt.ylim(0, 6)\n",
    "\n",
    "plt.show()"
   ]
  },
  {
   "cell_type": "markdown",
   "id": "40f4f354-7703-4333-8c27-de93ff0d3cb0",
   "metadata": {},
   "source": [
    "# 4. Пропущенные значения\n",
    "\n",
    "Пропущенные значения — это очень распространённое явление в реальных данных. Они возникают, когда информация по какому-то признаку не была записана, потерялась или не применима к конкретному наблюдению.\n",
    "\n",
    "Отсутствие значений может стать припятствием для работы многих алгоритмов.\n",
    "\n",
    "Работа с таблицами `pandas` или `numpy` можно встретить:\n",
    "- `NaN` (Not a Number) — для числовых данных\n",
    "- `None` — для объектов Python\n",
    "- `NaT` (Not a Time) — для дат и времени"
   ]
  },
  {
   "cell_type": "code",
   "execution_count": 14,
   "id": "d7f28b8a-86ff-4dc4-9778-9a957878d762",
   "metadata": {},
   "outputs": [
    {
     "data": {
      "text/html": [
       "<div>\n",
       "<style scoped>\n",
       "    .dataframe tbody tr th:only-of-type {\n",
       "        vertical-align: middle;\n",
       "    }\n",
       "\n",
       "    .dataframe tbody tr th {\n",
       "        vertical-align: top;\n",
       "    }\n",
       "\n",
       "    .dataframe thead th {\n",
       "        text-align: right;\n",
       "    }\n",
       "</style>\n",
       "<table border=\"1\" class=\"dataframe\">\n",
       "  <thead>\n",
       "    <tr style=\"text-align: right;\">\n",
       "      <th></th>\n",
       "      <th>Имя</th>\n",
       "      <th>Возраст</th>\n",
       "      <th>Город</th>\n",
       "      <th>Математика</th>\n",
       "      <th>Физика</th>\n",
       "      <th>Химия</th>\n",
       "    </tr>\n",
       "  </thead>\n",
       "  <tbody>\n",
       "    <tr>\n",
       "      <th>0</th>\n",
       "      <td>Анна</td>\n",
       "      <td>15.0</td>\n",
       "      <td>Москва</td>\n",
       "      <td>4.0</td>\n",
       "      <td>5.0</td>\n",
       "      <td>3.0</td>\n",
       "    </tr>\n",
       "    <tr>\n",
       "      <th>1</th>\n",
       "      <td>Борис</td>\n",
       "      <td>NaN</td>\n",
       "      <td>Санкт-Петербург</td>\n",
       "      <td>5.0</td>\n",
       "      <td>NaN</td>\n",
       "      <td>4.0</td>\n",
       "    </tr>\n",
       "    <tr>\n",
       "      <th>2</th>\n",
       "      <td>Виктор</td>\n",
       "      <td>16.0</td>\n",
       "      <td>NaN</td>\n",
       "      <td>NaN</td>\n",
       "      <td>4.0</td>\n",
       "      <td>5.0</td>\n",
       "    </tr>\n",
       "    <tr>\n",
       "      <th>3</th>\n",
       "      <td>Мария</td>\n",
       "      <td>17.0</td>\n",
       "      <td>Москва</td>\n",
       "      <td>5.0</td>\n",
       "      <td>4.0</td>\n",
       "      <td>NaN</td>\n",
       "    </tr>\n",
       "    <tr>\n",
       "      <th>4</th>\n",
       "      <td>Дмитрий</td>\n",
       "      <td>NaN</td>\n",
       "      <td>Казань</td>\n",
       "      <td>4.0</td>\n",
       "      <td>NaN</td>\n",
       "      <td>5.0</td>\n",
       "    </tr>\n",
       "  </tbody>\n",
       "</table>\n",
       "</div>"
      ],
      "text/plain": [
       "       Имя  Возраст            Город  Математика  Физика  Химия\n",
       "0     Анна     15.0           Москва         4.0     5.0    3.0\n",
       "1    Борис      NaN  Санкт-Петербург         5.0     NaN    4.0\n",
       "2   Виктор     16.0              NaN         NaN     4.0    5.0\n",
       "3    Мария     17.0           Москва         5.0     4.0    NaN\n",
       "4  Дмитрий      NaN           Казань         4.0     NaN    5.0"
      ]
     },
     "execution_count": 14,
     "metadata": {},
     "output_type": "execute_result"
    }
   ],
   "source": [
    "# Создадим DataFrame с пропущенными значениями\n",
    "\n",
    "data = {\n",
    "    'Имя': ['Анна', 'Борис', 'Виктор', 'Мария', 'Дмитрий'],\n",
    "    'Возраст': [15, np.nan, 16, 17, np.nan],\n",
    "    'Город': ['Москва', 'Санкт-Петербург', np.nan, 'Москва', 'Казань'],\n",
    "    'Математика': [4, 5, np.nan, 5, 4],\n",
    "    'Физика': [5, np.nan, 4, 4, np.nan],\n",
    "    'Химия': [3, 4, 5, np.nan, 5]\n",
    "}\n",
    "\n",
    "df = pd.DataFrame(data)\n",
    "df"
   ]
  },
  {
   "cell_type": "markdown",
   "id": "28488877-864f-491c-8b62-83332d0cbfee",
   "metadata": {},
   "source": [
    "## Обнаружение пропущенных значений"
   ]
  },
  {
   "cell_type": "code",
   "execution_count": 15,
   "id": "2a59d1b8-6cfe-4410-9745-8291f5e2ca2c",
   "metadata": {},
   "outputs": [
    {
     "name": "stdout",
     "output_type": "stream",
     "text": [
      "Информация о DataFrame:\n",
      "<class 'pandas.core.frame.DataFrame'>\n",
      "RangeIndex: 5 entries, 0 to 4\n",
      "Data columns (total 6 columns):\n",
      " #   Column      Non-Null Count  Dtype  \n",
      "---  ------      --------------  -----  \n",
      " 0   Имя         5 non-null      object \n",
      " 1   Возраст     3 non-null      float64\n",
      " 2   Город       4 non-null      object \n",
      " 3   Математика  4 non-null      float64\n",
      " 4   Физика      3 non-null      float64\n",
      " 5   Химия       4 non-null      float64\n",
      "dtypes: float64(4), object(2)\n",
      "memory usage: 368.0+ bytes\n",
      "None\n",
      "\n",
      "\n",
      "\n",
      "Сумма пропущенных значений по столбцам:\n",
      "Имя           0\n",
      "Возраст       2\n",
      "Город         1\n",
      "Математика    1\n",
      "Физика        2\n",
      "Химия         1\n",
      "dtype: int64\n",
      "\n",
      "Всего пропущенных значений: 7\n"
     ]
    }
   ],
   "source": [
    "# Показывает информацию о DataFrame, включая количество non-null значений\n",
    "print(\"Информация о DataFrame:\")\n",
    "print(df.info())\n",
    "\n",
    "# Показывает сумму пропущенных значений по каждому столбцу\n",
    "print(\"\\n\\n\\nСумма пропущенных значений по столбцам:\")\n",
    "print(df.isnull().sum())\n",
    "\n",
    "# Показывает общее количество пропусков\n",
    "print(f\"\\nВсего пропущенных значений: {df.isnull().sum().sum()}\")"
   ]
  },
  {
   "cell_type": "markdown",
   "id": "4a919564-4766-4302-9970-b7c204a14af5",
   "metadata": {},
   "source": [
    "## Визуализация пропусков"
   ]
  },
  {
   "cell_type": "code",
   "execution_count": 16,
   "id": "b51b222e-24c9-44b2-a3d7-e53d1b2a682d",
   "metadata": {},
   "outputs": [
    {
     "data": {
      "image/png": "[encoded data removed]",
      "text/plain": [
       "<Figure size 1000x600 with 2 Axes>"
      ]
     },
     "metadata": {},
     "output_type": "display_data"
    }
   ],
   "source": [
    "# Визуализация пропущенных значений\n",
    "plt.figure(figsize=(10, 6))\n",
    "\n",
    "# Создаем heatmap пропусков\n",
    "plt.imshow(df.isnull(), cmap='viridis', aspect='auto')\n",
    "plt.colorbar(label='Пропущено (True/False)')\n",
    "plt.title('Визуализация пропущенных значений')\n",
    "plt.xlabel('Столбцы')\n",
    "plt.ylabel('Строки')\n",
    "\n",
    "# Подписываем оси\n",
    "plt.xticks(range(len(df.columns)), df.columns, rotation=45)\n",
    "plt.yticks(range(len(df)), df.index)\n",
    "\n",
    "plt.tight_layout()\n",
    "plt.show()"
   ]
  },
  {
   "cell_type": "markdown",
   "id": "583cdc72-e850-4c3f-ab91-16bc0a156856",
   "metadata": {},
   "source": [
    "## Методы обработки пропущенных значений"
   ]
  },
  {
   "cell_type": "markdown",
   "id": "37c0f10d-3a3f-4db9-a406-d212dc9e7709",
   "metadata": {},
   "source": [
    "### Удаление пропусков"
   ]
  },
  {
   "cell_type": "code",
   "execution_count": 17,
   "id": "e3dfa6c2-e67d-494e-b12f-4adb5d2fe86c",
   "metadata": {},
   "outputs": [
    {
     "name": "stdout",
     "output_type": "stream",
     "text": [
      "После удаления строк со всеми пропусками: (5, 6)\n",
      "После удаления строк с любыми пропусками: (1, 6)\n",
      "После удаления строк с пропусками в 'Возраст' или 'Математика': (2, 6)\n"
     ]
    }
   ],
   "source": [
    "# Удаление строк, где ВСЕ значения пропущены\n",
    "df_cleaned_all = df.dropna(how='all')\n",
    "print(\"После удаления строк со всеми пропусками:\", df_cleaned_all.shape)\n",
    "\n",
    "# Удаление строк, где ХОТЯ БЫ ОДНО значение пропущено\n",
    "df_cleaned_any = df.dropna(how='any')\n",
    "print(\"После удаления строк с любыми пропусками:\", df_cleaned_any.shape)\n",
    "\n",
    "# Удаление строк, где пропущены значения в конкретных столбцах\n",
    "df_cleaned_subset = df.dropna(subset=['Возраст', 'Математика'])\n",
    "print(\"После удаления строк с пропусками в 'Возраст' или 'Математика':\", df_cleaned_subset.shape)"
   ]
  },
  {
   "cell_type": "code",
   "execution_count": 18,
   "id": "8153d743-bf90-469d-b4d9-f50fb67525f0",
   "metadata": {},
   "outputs": [
    {
     "data": {
      "text/html": [
       "<div>\n",
       "<style scoped>\n",
       "    .dataframe tbody tr th:only-of-type {\n",
       "        vertical-align: middle;\n",
       "    }\n",
       "\n",
       "    .dataframe tbody tr th {\n",
       "        vertical-align: top;\n",
       "    }\n",
       "\n",
       "    .dataframe thead th {\n",
       "        text-align: right;\n",
       "    }\n",
       "</style>\n",
       "<table border=\"1\" class=\"dataframe\">\n",
       "  <thead>\n",
       "    <tr style=\"text-align: right;\">\n",
       "      <th></th>\n",
       "      <th>Имя</th>\n",
       "      <th>Возраст</th>\n",
       "      <th>Город</th>\n",
       "      <th>Математика</th>\n",
       "      <th>Физика</th>\n",
       "      <th>Химия</th>\n",
       "    </tr>\n",
       "  </thead>\n",
       "  <tbody>\n",
       "    <tr>\n",
       "      <th>0</th>\n",
       "      <td>Анна</td>\n",
       "      <td>15.0</td>\n",
       "      <td>Москва</td>\n",
       "      <td>4.0</td>\n",
       "      <td>5.0</td>\n",
       "      <td>3.0</td>\n",
       "    </tr>\n",
       "  </tbody>\n",
       "</table>\n",
       "</div>"
      ],
      "text/plain": [
       "    Имя  Возраст   Город  Математика  Физика  Химия\n",
       "0  Анна     15.0  Москва         4.0     5.0    3.0"
      ]
     },
     "execution_count": 18,
     "metadata": {},
     "output_type": "execute_result"
    }
   ],
   "source": [
    "df_cleaned_any"
   ]
  },
  {
   "cell_type": "markdown",
   "id": "8a8e26d3-a923-44de-9efb-70d73a4f8406",
   "metadata": {},
   "source": [
    "### Заполнение пропусков константными значениями"
   ]
  },
  {
   "cell_type": "code",
   "execution_count": 19,
   "id": "cad3c669-0e78-4415-90a7-624008a5bbbc",
   "metadata": {},
   "outputs": [
    {
     "data": {
      "text/html": [
       "<div>\n",
       "<style scoped>\n",
       "    .dataframe tbody tr th:only-of-type {\n",
       "        vertical-align: middle;\n",
       "    }\n",
       "\n",
       "    .dataframe tbody tr th {\n",
       "        vertical-align: top;\n",
       "    }\n",
       "\n",
       "    .dataframe thead th {\n",
       "        text-align: right;\n",
       "    }\n",
       "</style>\n",
       "<table border=\"1\" class=\"dataframe\">\n",
       "  <thead>\n",
       "    <tr style=\"text-align: right;\">\n",
       "      <th></th>\n",
       "      <th>Имя</th>\n",
       "      <th>Возраст</th>\n",
       "      <th>Город</th>\n",
       "      <th>Математика</th>\n",
       "      <th>Физика</th>\n",
       "      <th>Химия</th>\n",
       "    </tr>\n",
       "  </thead>\n",
       "  <tbody>\n",
       "    <tr>\n",
       "      <th>0</th>\n",
       "      <td>Анна</td>\n",
       "      <td>15.0</td>\n",
       "      <td>Москва</td>\n",
       "      <td>4.0</td>\n",
       "      <td>5.0</td>\n",
       "      <td>3.0</td>\n",
       "    </tr>\n",
       "    <tr>\n",
       "      <th>1</th>\n",
       "      <td>Борис</td>\n",
       "      <td>0.0</td>\n",
       "      <td>Санкт-Петербург</td>\n",
       "      <td>5.0</td>\n",
       "      <td>0.0</td>\n",
       "      <td>4.0</td>\n",
       "    </tr>\n",
       "    <tr>\n",
       "      <th>2</th>\n",
       "      <td>Виктор</td>\n",
       "      <td>16.0</td>\n",
       "      <td>0</td>\n",
       "      <td>0.0</td>\n",
       "      <td>4.0</td>\n",
       "      <td>5.0</td>\n",
       "    </tr>\n",
       "    <tr>\n",
       "      <th>3</th>\n",
       "      <td>Мария</td>\n",
       "      <td>17.0</td>\n",
       "      <td>Москва</td>\n",
       "      <td>5.0</td>\n",
       "      <td>4.0</td>\n",
       "      <td>0.0</td>\n",
       "    </tr>\n",
       "    <tr>\n",
       "      <th>4</th>\n",
       "      <td>Дмитрий</td>\n",
       "      <td>0.0</td>\n",
       "      <td>Казань</td>\n",
       "      <td>4.0</td>\n",
       "      <td>0.0</td>\n",
       "      <td>5.0</td>\n",
       "    </tr>\n",
       "  </tbody>\n",
       "</table>\n",
       "</div>"
      ],
      "text/plain": [
       "       Имя  Возраст            Город  Математика  Физика  Химия\n",
       "0     Анна     15.0           Москва         4.0     5.0    3.0\n",
       "1    Борис      0.0  Санкт-Петербург         5.0     0.0    4.0\n",
       "2   Виктор     16.0                0         0.0     4.0    5.0\n",
       "3    Мария     17.0           Москва         5.0     4.0    0.0\n",
       "4  Дмитрий      0.0           Казань         4.0     0.0    5.0"
      ]
     },
     "execution_count": 19,
     "metadata": {},
     "output_type": "execute_result"
    }
   ],
   "source": [
    "# Заполнение пропусков нулями\n",
    "df_filled_zeros = df.fillna(0)\n",
    "df_filled_zeros"
   ]
  },
  {
   "cell_type": "code",
   "execution_count": 20,
   "id": "b05a261d-31e3-42d7-a48d-06764381b91e",
   "metadata": {},
   "outputs": [
    {
     "data": {
      "text/html": [
       "<div>\n",
       "<style scoped>\n",
       "    .dataframe tbody tr th:only-of-type {\n",
       "        vertical-align: middle;\n",
       "    }\n",
       "\n",
       "    .dataframe tbody tr th {\n",
       "        vertical-align: top;\n",
       "    }\n",
       "\n",
       "    .dataframe thead th {\n",
       "        text-align: right;\n",
       "    }\n",
       "</style>\n",
       "<table border=\"1\" class=\"dataframe\">\n",
       "  <thead>\n",
       "    <tr style=\"text-align: right;\">\n",
       "      <th></th>\n",
       "      <th>Имя</th>\n",
       "      <th>Возраст</th>\n",
       "      <th>Город</th>\n",
       "      <th>Математика</th>\n",
       "      <th>Физика</th>\n",
       "      <th>Химия</th>\n",
       "    </tr>\n",
       "  </thead>\n",
       "  <tbody>\n",
       "    <tr>\n",
       "      <th>0</th>\n",
       "      <td>Анна</td>\n",
       "      <td>15.0</td>\n",
       "      <td>Москва</td>\n",
       "      <td>4.0</td>\n",
       "      <td>5.000000</td>\n",
       "      <td>3.0</td>\n",
       "    </tr>\n",
       "    <tr>\n",
       "      <th>1</th>\n",
       "      <td>Борис</td>\n",
       "      <td>16.0</td>\n",
       "      <td>Санкт-Петербург</td>\n",
       "      <td>5.0</td>\n",
       "      <td>4.333333</td>\n",
       "      <td>4.0</td>\n",
       "    </tr>\n",
       "    <tr>\n",
       "      <th>2</th>\n",
       "      <td>Виктор</td>\n",
       "      <td>16.0</td>\n",
       "      <td>Неизвестно</td>\n",
       "      <td>4.5</td>\n",
       "      <td>4.000000</td>\n",
       "      <td>5.0</td>\n",
       "    </tr>\n",
       "    <tr>\n",
       "      <th>3</th>\n",
       "      <td>Мария</td>\n",
       "      <td>17.0</td>\n",
       "      <td>Москва</td>\n",
       "      <td>5.0</td>\n",
       "      <td>4.000000</td>\n",
       "      <td>0.0</td>\n",
       "    </tr>\n",
       "    <tr>\n",
       "      <th>4</th>\n",
       "      <td>Дмитрий</td>\n",
       "      <td>16.0</td>\n",
       "      <td>Казань</td>\n",
       "      <td>4.0</td>\n",
       "      <td>4.333333</td>\n",
       "      <td>5.0</td>\n",
       "    </tr>\n",
       "  </tbody>\n",
       "</table>\n",
       "</div>"
      ],
      "text/plain": [
       "       Имя  Возраст            Город  Математика    Физика  Химия\n",
       "0     Анна     15.0           Москва         4.0  5.000000    3.0\n",
       "1    Борис     16.0  Санкт-Петербург         5.0  4.333333    4.0\n",
       "2   Виктор     16.0       Неизвестно         4.5  4.000000    5.0\n",
       "3    Мария     17.0           Москва         5.0  4.000000    0.0\n",
       "4  Дмитрий     16.0           Казань         4.0  4.333333    5.0"
      ]
     },
     "execution_count": 20,
     "metadata": {},
     "output_type": "execute_result"
    }
   ],
   "source": [
    "# Заполнение разными значениями для разных столбцов\n",
    "fill_values = {\n",
    "    'Возраст': df['Возраст'].mean(),  # средним возрастом\n",
    "    'Город': 'Неизвестно',            # строкой\n",
    "    'Математика': df['Математика'].median(),  # медианой\n",
    "    'Физика': df['Физика'].mean(),    # средним\n",
    "    'Химия': 0                        # нулем\n",
    "}\n",
    "df_filled_custom = df.fillna(fill_values)\n",
    "df_filled_custom"
   ]
  },
  {
   "cell_type": "markdown",
   "id": "0b7d80ed-d837-409a-a285-3f7dd0bb2021",
   "metadata": {},
   "source": [
    "### Заполнение статистиками"
   ]
  },
  {
   "cell_type": "code",
   "execution_count": 21,
   "id": "45130cd1-868c-4156-8ccb-2f86b66d1b33",
   "metadata": {},
   "outputs": [
    {
     "data": {
      "text/html": [
       "<div>\n",
       "<style scoped>\n",
       "    .dataframe tbody tr th:only-of-type {\n",
       "        vertical-align: middle;\n",
       "    }\n",
       "\n",
       "    .dataframe tbody tr th {\n",
       "        vertical-align: top;\n",
       "    }\n",
       "\n",
       "    .dataframe thead th {\n",
       "        text-align: right;\n",
       "    }\n",
       "</style>\n",
       "<table border=\"1\" class=\"dataframe\">\n",
       "  <thead>\n",
       "    <tr style=\"text-align: right;\">\n",
       "      <th></th>\n",
       "      <th>Имя</th>\n",
       "      <th>Возраст</th>\n",
       "      <th>Город</th>\n",
       "      <th>Математика</th>\n",
       "      <th>Физика</th>\n",
       "      <th>Химия</th>\n",
       "    </tr>\n",
       "  </thead>\n",
       "  <tbody>\n",
       "    <tr>\n",
       "      <th>0</th>\n",
       "      <td>Анна</td>\n",
       "      <td>15.0</td>\n",
       "      <td>Москва</td>\n",
       "      <td>4.0</td>\n",
       "      <td>5.000000</td>\n",
       "      <td>3.00</td>\n",
       "    </tr>\n",
       "    <tr>\n",
       "      <th>1</th>\n",
       "      <td>Борис</td>\n",
       "      <td>16.0</td>\n",
       "      <td>Санкт-Петербург</td>\n",
       "      <td>5.0</td>\n",
       "      <td>4.333333</td>\n",
       "      <td>4.00</td>\n",
       "    </tr>\n",
       "    <tr>\n",
       "      <th>2</th>\n",
       "      <td>Виктор</td>\n",
       "      <td>16.0</td>\n",
       "      <td>NaN</td>\n",
       "      <td>4.5</td>\n",
       "      <td>4.000000</td>\n",
       "      <td>5.00</td>\n",
       "    </tr>\n",
       "    <tr>\n",
       "      <th>3</th>\n",
       "      <td>Мария</td>\n",
       "      <td>17.0</td>\n",
       "      <td>Москва</td>\n",
       "      <td>5.0</td>\n",
       "      <td>4.000000</td>\n",
       "      <td>4.25</td>\n",
       "    </tr>\n",
       "    <tr>\n",
       "      <th>4</th>\n",
       "      <td>Дмитрий</td>\n",
       "      <td>16.0</td>\n",
       "      <td>Казань</td>\n",
       "      <td>4.0</td>\n",
       "      <td>4.333333</td>\n",
       "      <td>5.00</td>\n",
       "    </tr>\n",
       "  </tbody>\n",
       "</table>\n",
       "</div>"
      ],
      "text/plain": [
       "       Имя  Возраст            Город  Математика    Физика  Химия\n",
       "0     Анна     15.0           Москва         4.0  5.000000   3.00\n",
       "1    Борис     16.0  Санкт-Петербург         5.0  4.333333   4.00\n",
       "2   Виктор     16.0              NaN         4.5  4.000000   5.00\n",
       "3    Мария     17.0           Москва         5.0  4.000000   4.25\n",
       "4  Дмитрий     16.0           Казань         4.0  4.333333   5.00"
      ]
     },
     "execution_count": 21,
     "metadata": {},
     "output_type": "execute_result"
    }
   ],
   "source": [
    "# Заполнение средним значением (для числовых столбцов)\n",
    "df_filled_mean = df.copy()\n",
    "numeric_columns = df.select_dtypes(include=[np.number]).columns\n",
    "df_filled_mean[numeric_columns] = df_filled_mean[numeric_columns].fillna(df_filled_mean[numeric_columns].mean())\n",
    "df_filled_mean"
   ]
  },
  {
   "cell_type": "code",
   "execution_count": 22,
   "id": "59c405cc-4add-44f9-aa3d-13cbf3698592",
   "metadata": {},
   "outputs": [
    {
     "data": {
      "text/html": [
       "<div>\n",
       "<style scoped>\n",
       "    .dataframe tbody tr th:only-of-type {\n",
       "        vertical-align: middle;\n",
       "    }\n",
       "\n",
       "    .dataframe tbody tr th {\n",
       "        vertical-align: top;\n",
       "    }\n",
       "\n",
       "    .dataframe thead th {\n",
       "        text-align: right;\n",
       "    }\n",
       "</style>\n",
       "<table border=\"1\" class=\"dataframe\">\n",
       "  <thead>\n",
       "    <tr style=\"text-align: right;\">\n",
       "      <th></th>\n",
       "      <th>Имя</th>\n",
       "      <th>Возраст</th>\n",
       "      <th>Город</th>\n",
       "      <th>Математика</th>\n",
       "      <th>Физика</th>\n",
       "      <th>Химия</th>\n",
       "    </tr>\n",
       "  </thead>\n",
       "  <tbody>\n",
       "    <tr>\n",
       "      <th>0</th>\n",
       "      <td>Анна</td>\n",
       "      <td>15.0</td>\n",
       "      <td>Москва</td>\n",
       "      <td>4.0</td>\n",
       "      <td>5.0</td>\n",
       "      <td>3.0</td>\n",
       "    </tr>\n",
       "    <tr>\n",
       "      <th>1</th>\n",
       "      <td>Борис</td>\n",
       "      <td>16.0</td>\n",
       "      <td>Санкт-Петербург</td>\n",
       "      <td>5.0</td>\n",
       "      <td>4.0</td>\n",
       "      <td>4.0</td>\n",
       "    </tr>\n",
       "    <tr>\n",
       "      <th>2</th>\n",
       "      <td>Виктор</td>\n",
       "      <td>16.0</td>\n",
       "      <td>NaN</td>\n",
       "      <td>4.5</td>\n",
       "      <td>4.0</td>\n",
       "      <td>5.0</td>\n",
       "    </tr>\n",
       "    <tr>\n",
       "      <th>3</th>\n",
       "      <td>Мария</td>\n",
       "      <td>17.0</td>\n",
       "      <td>Москва</td>\n",
       "      <td>5.0</td>\n",
       "      <td>4.0</td>\n",
       "      <td>4.5</td>\n",
       "    </tr>\n",
       "    <tr>\n",
       "      <th>4</th>\n",
       "      <td>Дмитрий</td>\n",
       "      <td>16.0</td>\n",
       "      <td>Казань</td>\n",
       "      <td>4.0</td>\n",
       "      <td>4.0</td>\n",
       "      <td>5.0</td>\n",
       "    </tr>\n",
       "  </tbody>\n",
       "</table>\n",
       "</div>"
      ],
      "text/plain": [
       "       Имя  Возраст            Город  Математика  Физика  Химия\n",
       "0     Анна     15.0           Москва         4.0     5.0    3.0\n",
       "1    Борис     16.0  Санкт-Петербург         5.0     4.0    4.0\n",
       "2   Виктор     16.0              NaN         4.5     4.0    5.0\n",
       "3    Мария     17.0           Москва         5.0     4.0    4.5\n",
       "4  Дмитрий     16.0           Казань         4.0     4.0    5.0"
      ]
     },
     "execution_count": 22,
     "metadata": {},
     "output_type": "execute_result"
    }
   ],
   "source": [
    "# Заполнение медианой (устойчиво к выбросам)\n",
    "df_filled_median = df.copy()\n",
    "df_filled_median[numeric_columns] = df_filled_median[numeric_columns].fillna(df_filled_median[numeric_columns].median())\n",
    "df_filled_median"
   ]
  },
  {
   "cell_type": "raw",
   "id": "5b9243f7-a94b-46b4-aa31-ee33d52f7d76",
   "metadata": {},
   "source": [
    "## Продвинутые методы заполнения (домашнее задание)\n",
    "\n",
    "# Заполнение вперед (forward fill) - берет значение из предыдущей строки\n",
    "df_ffill = df.fillna(method='ffill')\n",
    "print(\"Заполнение вперед:\")\n",
    "print(df_ffill)\n",
    "\n",
    "# Заполнение назад (backward fill) - берет значение из следующей строки\n",
    "df_bfill = df.fillna(method='bfill')\n",
    "print(\"\\nЗаполнение назад:\")\n",
    "print(df_bfill)\n",
    "\n",
    "# Интерполяция (для упорядоченных данных)\n",
    "df_interpolated = df.copy()\n",
    "df_interpolated[numeric_columns] = df_interpolated[numeric_columns].interpolate()\n",
    "print(\"\\nПосле интерполяции:\")\n",
    "print(df_interpolated)"
   ]
  },
  {
   "cell_type": "markdown",
   "id": "00b284b6-b525-4ab1-8338-65beb8635fc3",
   "metadata": {},
   "source": [
    "## Советы по выбору стратегии\n",
    "\n",
    "### Когда удалять пропуски:\n",
    "- Пропусков очень мало (< 5%)\n",
    "- Удаление не приведет к потере важной информации\n",
    "- Данных достаточно для анализа после удаления\n",
    "\n",
    "### Когда заполнять пропуски:\n",
    "- Пропусков умеренное количество\n",
    "- Данные имеют закономерности\n",
    "- Нужно сохранить все наблюдения\n",
    "\n",
    "### Как выбирать метод заполнения:\n",
    "- Среднее/медиана: для нормально распределенных данных\n",
    "- Мода: для категориальных данных\n",
    "- Интерполяция: для временных рядов\n",
    "- Групповые статистики: когда данные зависят от категорий"
   ]
  },
  {
   "cell_type": "markdown",
   "id": "b10096fe-db1b-4965-a673-d5b0c2e6122c",
   "metadata": {},
   "source": [
    "# 5. Выбросы\n",
    "\n",
    "Выбросы — это значения, которые значительно отличаются от остальных наблюдений в данных. Они могут быть вызваны ошибками измерений, редкими событиями или просто уникальными случаями.\n",
    "\n",
    "Выбросы — это экстремальные значения, которые лежат далеко за пределами основной массы данных. Они могут:\n",
    "- Искажать статистические показатели (среднее, стандартное отклонение)\n",
    "- Влиять на модели машинного обучения\n",
    "- Скрывать важные закономерности в данных"
   ]
  },
  {
   "cell_type": "markdown",
   "id": "255298da-4515-40fe-9532-d586ec6532a2",
   "metadata": {},
   "source": [
    "## Создадим выбросы"
   ]
  },
  {
   "cell_type": "code",
   "execution_count": 23,
   "id": "554f52e6-c050-495b-9ed4-861418a96fc0",
   "metadata": {},
   "outputs": [
    {
     "name": "stdout",
     "output_type": "stream",
     "text": [
      "Описательная статистика данных:\n",
      "count    105.000000\n",
      "mean     100.135526\n",
      "std       23.628223\n",
      "min       25.000000\n",
      "25%       90.974401\n",
      "50%       98.265276\n",
      "75%      107.699011\n",
      "max      220.000000\n",
      "Name: значения, dtype: float64\n"
     ]
    }
   ],
   "source": [
    "import seaborn as sns\n",
    "\n",
    "# Создадим нормальные данные\n",
    "np.random.seed(42)\n",
    "normal_data = np.random.normal(100, 15, 100)  # среднее=100, std=15\n",
    "\n",
    "# Добавим выбросы\n",
    "outliers = np.array([25, 45, 180, 200, 220])\n",
    "data_with_outliers = np.concatenate([normal_data, outliers])\n",
    "\n",
    "# Создаем DataFrame\n",
    "df = pd.DataFrame({\n",
    "    'значения': data_with_outliers,\n",
    "    'тип': ['нормальные'] * 100 + ['выбросы'] * 5\n",
    "})\n",
    "\n",
    "print(\"Описательная статистика данных:\")\n",
    "print(df['значения'].describe())"
   ]
  },
  {
   "cell_type": "markdown",
   "id": "827c2b35-d4d6-4b72-ba7a-d5c5ddfcd978",
   "metadata": {},
   "source": [
    "## Гистограмма с выбросами"
   ]
  },
  {
   "cell_type": "code",
   "execution_count": 24,
   "id": "b228be3a-8473-4dc5-99c9-4d70c1608493",
   "metadata": {},
   "outputs": [
    {
     "data": {
      "image/png": "[encoded data removed]",
      "text/plain": [
       "<Figure size 1200x500 with 2 Axes>"
      ]
     },
     "metadata": {},
     "output_type": "display_data"
    }
   ],
   "source": [
    "plt.figure(figsize=(12, 5))\n",
    "\n",
    "plt.subplot(1, 2, 1)\n",
    "plt.hist(df['значения'], bins=30, alpha=0.7, color='skyblue')\n",
    "plt.title('Гистограмма данных')\n",
    "plt.xlabel('Значения')\n",
    "plt.ylabel('Частота')\n",
    "\n",
    "plt.subplot(1, 2, 2)\n",
    "# Отдельно нормальные данные и выбросы\n",
    "normal = df[df['тип'] == 'нормальные']['значения']\n",
    "outliers = df[df['тип'] == 'выбросы']['значения']\n",
    "\n",
    "plt.hist(normal, bins=30, alpha=0.7, label='Нормальные', color='green')\n",
    "plt.hist(outliers, bins=10, alpha=0.7, label='Выбросы', color='red')\n",
    "plt.title('Гистограмма с выделенными выбросами')\n",
    "plt.xlabel('Значения')\n",
    "plt.ylabel('Частота')\n",
    "plt.legend()\n",
    "\n",
    "plt.tight_layout()\n",
    "plt.show()"
   ]
  },
  {
   "cell_type": "markdown",
   "id": "1b83cc0c-e044-46e5-8475-8991e7492d0d",
   "metadata": {},
   "source": [
    "## Выбросы на точечной диаграмме"
   ]
  },
  {
   "cell_type": "code",
   "execution_count": 25,
   "id": "49685eec-3c8e-4d34-b519-5c46add6213e",
   "metadata": {},
   "outputs": [
    {
     "data": {
      "image/png": "[encoded data removed]",
      "text/plain": [
       "<Figure size 1000x600 with 1 Axes>"
      ]
     },
     "metadata": {},
     "output_type": "display_data"
    }
   ],
   "source": [
    "plt.figure(figsize=(10, 6))\n",
    "plt.scatter(range(len(df)), df['значения'], \n",
    "           c=df['тип'].map({'нормальные': 'blue', 'выбросы': 'red'}),\n",
    "           alpha=0.6)\n",
    "plt.title('Точечная диаграмма значений')\n",
    "plt.xlabel('Индекс')\n",
    "plt.ylabel('Значения')\n",
    "plt.legend(handles=[\n",
    "    plt.Line2D([0], [0], marker='o', color='w', markerfacecolor='blue', markersize=10, label='Нормальные'),\n",
    "    plt.Line2D([0], [0], marker='o', color='w', markerfacecolor='red', markersize=10, label='Выбросы')\n",
    "])\n",
    "plt.grid(True, alpha=0.3)\n",
    "plt.show()"
   ]
  },
  {
   "cell_type": "markdown",
   "id": "ea2e1b0d-125e-40e3-a62c-29e8b3df64f1",
   "metadata": {},
   "source": [
    "## Статистические методы обнаружения выбросов (на примере Z-score)"
   ]
  },
  {
   "cell_type": "code",
   "execution_count": 26,
   "id": "7b8fa5d1-90ce-4b56-8deb-b17f87cebc90",
   "metadata": {},
   "outputs": [
    {
     "name": "stdout",
     "output_type": "stream",
     "text": [
      "=== Z-score анализ для значения ===\n",
      "Пороговое значение Z-score: 3\n",
      "Найдено выбросов: 4\n",
      "Процент выбросов: 3.81%\n",
      "Z-scores выбросов: 100    3.195157\n",
      "102    3.396257\n",
      "103    4.246762\n",
      "104    5.097267\n",
      "Name: значения, dtype: float64\n"
     ]
    }
   ],
   "source": [
    "def find_outliers_zscore(data, column, threshold=3):\n",
    "    \"\"\"Находит выбросы с помощью Z-score\"\"\"\n",
    "    from scipy import stats\n",
    "    \n",
    "    z_scores = np.abs(stats.zscore(data[column]))\n",
    "    outliers = data[z_scores > threshold]\n",
    "    \n",
    "    print(f\"=== Z-score анализ для {column} ===\")\n",
    "    print(f\"Пороговое значение Z-score: {threshold}\")\n",
    "    print(f\"Найдено выбросов: {len(outliers)}\")\n",
    "    print(f\"Процент выбросов: {len(outliers)/len(data)*100:.2f}%\")\n",
    "    print(f\"Z-scores выбросов: {z_scores[z_scores > threshold]}\")\n",
    "    \n",
    "    return outliers, z_scores\n",
    "\n",
    "# Применяем Z-score метод\n",
    "outliers_zscore, z_scores = find_outliers_zscore(df, 'значения')"
   ]
  },
  {
   "cell_type": "markdown",
   "id": "dbe8ff96-0b4c-4636-a7ec-41fefcd60ce1",
   "metadata": {},
   "source": [
    "## Советы по работе с выбросами\n",
    "\n",
    "### Когда обращать внимание на выбросы:\n",
    "- Обрабатывать: когда выбросы вызваны ошибками в данных\n",
    "- Исследовать: когда выбросы представляют интересные случаи\n",
    "- Сохранять: когда выбросы важны для бизнес-логики\n",
    "\n",
    "### Методы обнаружения для разных типов данных:\n",
    "- Нормальное распределение: Z-score, IQR\n",
    "- Произвольное распределение: MAD, IQR\n",
    "- Многомерные данные: методы кластеризации (DBSCAN, Isolation Forest)"
   ]
  },
  {
   "cell_type": "markdown",
   "id": "bfe9b240-25aa-4f9c-81f2-c5127672ffcc",
   "metadata": {},
   "source": [
    "# Ссылки"
   ]
  },
  {
   "cell_type": "markdown",
   "id": "292ec006-54fc-4cd5-a69c-759ff2d774da",
   "metadata": {},
   "source": [
    "- [10 простых визуализаций данных в Python для детей](https://www.progkids.com/blog/10-prostyh-vizualizacij-dannyh-v-python-dlya-detej)\n",
    "- [Библиотека Matplotlib для построения графиков](https://skillbox.ru/media/code/biblioteka-matplotlib-dlya-postroeniya-grafikov/)\n",
    "- [CSV - что это за формат файла и как с ним работать](https://blog.skillfactory.ru/glossary/csv-format/)\n",
    "- [Как вычислить выбросы](https://ru.wikihow.com/%D0%B2%D1%8B%D1%87%D0%B8%D1%81%D0%BB%D0%B8%D1%82%D1%8C-%D0%B2%D1%8B%D0%B1%D1%80%D0%BE%D1%81%D1%8B)"
   ]
  }
 ],
 "metadata": {
  "kernelspec": {
   "display_name": "Python 3 (ipykernel)",
   "language": "python",
   "name": "python3"
  },
  "language_info": {
   "codemirror_mode": {
    "name": "ipython",
    "version": 3
   },
   "file_extension": ".py",
   "mimetype": "text/x-python",
   "name": "python",
   "nbconvert_exporter": "python",
   "pygments_lexer": "ipython3",
   "version": "3.10.13"
  }
 },
 "nbformat": 4,
 "nbformat_minor": 5
}
