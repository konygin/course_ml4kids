{
 "cells": [
  {
   "cell_type": "markdown",
   "id": "1e2b0fd2-22ae-4637-a4b0-df11116c2a01",
   "metadata": {},
   "source": [
    "# 01. Введение\n",
    "\n",
    "Содержание:\n",
    "- Машинное обучение\n",
    "    - Что такое машинное обучение?\n",
    "    - Что такое искусственный интеллект?\n",
    "    - Хронология\n",
    "    - Ограничения\n",
    "    - Методы\n",
    "    - Применение\n",
    "- Теория вероятностей\n",
    "    - вероятностные события\n",
    "    - условная вероятность\n",
    "    - Распределения: биномиальное, нормальное\n",
    "    - Описательная статистика: среднее, медиана, дисперсия, ковариация\n",
    "- Линейная алгебра\n",
    "    - векторное пространство\n",
    "    - матрица\n",
    "    - определитель\n",
    "- Ссылки"
   ]
  },
  {
   "cell_type": "markdown",
   "id": "53af92ec-ed75-449b-bfe3-9ea619c91b9c",
   "metadata": {},
   "source": [
    "## Машинное обучение"
   ]
  },
  {
   "cell_type": "code",
   "execution_count": null,
   "id": "971bffe2-385a-41a3-9a3a-f727a16b6b17",
   "metadata": {},
   "outputs": [],
   "source": []
  },
  {
   "cell_type": "markdown",
   "id": "4ae61c3b-0abe-4440-a2f9-14e633c9f555",
   "metadata": {},
   "source": [
    "## Теория вероятностей"
   ]
  },
  {
   "cell_type": "code",
   "execution_count": null,
   "id": "2553b29a-1b56-4250-9833-7c451b472471",
   "metadata": {},
   "outputs": [],
   "source": []
  },
  {
   "cell_type": "markdown",
   "id": "37326335-0a62-4efb-8d6e-6d63879d94ac",
   "metadata": {},
   "source": [
    "## Линейная алгебра"
   ]
  },
  {
   "cell_type": "code",
   "execution_count": null,
   "id": "fc890228-26b6-408e-ac04-1348a77d38f7",
   "metadata": {},
   "outputs": [],
   "source": []
  },
  {
   "cell_type": "markdown",
   "id": "a550a6b2-68cc-4e77-a804-238745c9e61b",
   "metadata": {},
   "source": [
    "## Ссылки"
   ]
  }
 ],
 "metadata": {
  "kernelspec": {
   "display_name": "Python 3 (ipykernel)",
   "language": "python",
   "name": "python3"
  },
  "language_info": {
   "codemirror_mode": {
    "name": "ipython",
    "version": 3
   },
   "file_extension": ".py",
   "mimetype": "text/x-python",
   "name": "python",
   "nbconvert_exporter": "python",
   "pygments_lexer": "ipython3",
   "version": "3.10.13"
  }
 },
 "nbformat": 4,
 "nbformat_minor": 5
}
