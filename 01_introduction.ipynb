{
 "cells": [
  {
   "cell_type": "markdown",
   "id": "1e2b0fd2-22ae-4637-a4b0-df11116c2a01",
   "metadata": {},
   "source": [
    "# 01. Введение\n",
    "\n",
    "Содержание:\n",
    "- Машинное обучение\n",
    "    - Что такое машинное обучение?\n",
    "    - Что такое искусственный интеллект?\n",
    "    - Хронология\n",
    "    - Ограничения\n",
    "    - Методы\n",
    "    - Применение\n",
    "- Теория вероятностей\n",
    "    - вероятностные события\n",
    "    - условная вероятность\n",
    "    - Распределения: биномиальное, нормальное\n",
    "    - Описательная статистика: среднее, медиана, дисперсия, ковариация\n",
    "- Линейная алгебра\n",
    "    - векторное пространство\n",
    "    - матрица\n",
    "    - определитель"
   ]
  },
  {
   "cell_type": "code",
   "execution_count": null,
   "id": "0188ddc9-69a4-406d-a8cb-5726f1fadb9c",
   "metadata": {},
   "outputs": [],
   "source": []
  }
 ],
 "metadata": {
  "kernelspec": {
   "display_name": "Python 3 (ipykernel)",
   "language": "python",
   "name": "python3"
  },
  "language_info": {
   "codemirror_mode": {
    "name": "ipython",
    "version": 3
   },
   "file_extension": ".py",
   "mimetype": "text/x-python",
   "name": "python",
   "nbconvert_exporter": "python",
   "pygments_lexer": "ipython3",
   "version": "3.10.13"
  }
 },
 "nbformat": 4,
 "nbformat_minor": 5
}
